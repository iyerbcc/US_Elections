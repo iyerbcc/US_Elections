{
 "cells": [
  {
   "cell_type": "markdown",
   "id": "7271b050",
   "metadata": {},
   "source": [
    "# November 2022 Elections"
   ]
  },
  {
   "cell_type": "markdown",
   "id": "125eb538",
   "metadata": {},
   "source": [
    "**Question**  November 2022 elections will be conducted shortly. My question is to predict the total registration and votes (in thousands) in November 2022 elections by sex, race and Hispanic origin for states based on information collected from 1990 until 2020.\n",
    "\n",
    "Note, US census recognizes two ethnicities: Hispanic origin and Non-Hispanic origin. Further data is gathered by age, income, marital-status, race, sex, etc.,.\n",
    "\n",
    "Table 4 (a or b) reports Voting and Registration, by Sex, Race and Hispanic Origin, for States: November (even year) in the United States Census Bureau page. Based on the collected data (even years 1990 - 2020, inclusive) I would like to analyze and predict the Total Registration and Votes in the November 2022 elections by Sex, Race and Hispanic Origin, for States. My hope is to address the following sub-questions:\n",
    "\n",
    "**Sub-Questions**\n",
    "\n",
    "1. Can we say that a certain demography is more engaged with the electoral process? For instance, can we say where are Asian voters most and least engaged? \n",
    "2. Can we identify areas of changes in registration and voting patterns from year to year?  \n",
    "\n",
    "By the end of this project I hope to learn Tableau enough to use it meaningfully. \n",
    "\n",
    "Website: https://www.census.gov/data.html\n",
    "\n",
    "\n",
    "\n",
    "**Current Status of the project**\n",
    "I have collected all the requisite files from the US Census Bureau website. \n",
    "Over the past 30 years, the file formats have changed, from their tabulations to their electronic formats. For instance, files from the 1990s are either in text or pdf formats (even scanned pdf in some cases), \n",
    "and more recent files are available in excel format. \n",
    "Since the form of tabulations have changed, at present I am working on getting a consistent form from the raw data. "
   ]
  },
  {
   "cell_type": "code",
   "execution_count": null,
   "id": "bfea2241",
   "metadata": {},
   "outputs": [],
   "source": []
  },
  {
   "cell_type": "code",
   "execution_count": 1,
   "id": "10c9e865",
   "metadata": {},
   "outputs": [],
   "source": [
    "import pandas as pd\n",
    "import tabula\n",
    "import csv\n",
    "import os\n",
    "import numpy as np \n",
    "from tabula.io import read_pdf\n",
    "\n",
    "pd.set_option('display.max_columns',85)\n",
    "pd.set_option('display.max_rows',400)"
   ]
  },
  {
   "cell_type": "code",
   "execution_count": null,
   "id": "9ba15e29",
   "metadata": {},
   "outputs": [],
   "source": [
    "states=['','ALABAMA','ALASKA','ARIZONA','ARKANSAS','CALIFORNIA', 'COLORADO','CONNECTICUT','DELAWARE',\n",
    "        'DISTRICT_OF_COLUMBIA','FLORIDA','GEORGIA','HAWAII','IDAHO','ILLINOIS','INDIANA','IOWA',\n",
    "           'KANSAS','KENTUCKY','LOUISIANA','MAINE','MARYLAND','MASSACHUSETTS','MICHIGAN','MINNESOTA',\n",
    "           'MISSISSIPPI','MISSOURI', 'MONTANA', 'NEBRASKA','NEVADA', 'NEW_HAMPSHIRE','NEW_JERSEY',\n",
    "           'NEW_MEXICO','NEW_YORK','NORTH_CAROLINA', 'NORTH_DAKOTA','OHIO', 'OKLAHOMA','OREGON',\n",
    "           'PENNSYLVANIA','RHODE_ISLAND','SOUTH_CAROLINA','SOUTH_DAKOTA','TENNESSEE','TEXAS',\n",
    "           'UTAH','VERMONT', 'VIRGINIA','WASHINGTON', 'WEST_VIRGINIA','WISCONSIN','WYOMING']"
   ]
  },
  {
   "cell_type": "markdown",
   "id": "07d8ce66",
   "metadata": {},
   "source": [
    "#### Years 2010 - 2020"
   ]
  },
  {
   "cell_type": "code",
   "execution_count": 21,
   "id": "9af9718f",
   "metadata": {},
   "outputs": [],
   "source": [
    "for year in ['2018','2020']:\n",
    "    df=pd.read_csv('raw_election_data/tab04b_'+year+'.csv', header = 2, skiprows = lambda x: x in [0, 3])\n",
    "    df = df.dropna(how='all').dropna(how='all', axis=1)\n",
    "    df = df.reset_index(drop = True)\n",
    "    df.to_csv('clean_election_data/tab_'+year+'.csv', sep=',')"
   ]
  },
  {
   "cell_type": "code",
   "execution_count": 22,
   "id": "1de711fd",
   "metadata": {},
   "outputs": [],
   "source": [
    "for year in ['2012','2014','2016']:\n",
    "    df=pd.read_csv('raw_election_data/tab04b_'+year+'.csv', header = 2)\n",
    "    df = df.dropna(how='all').dropna(how='all', axis=1)\n",
    "    headers = df.iloc[0]\n",
    "    df  = pd.DataFrame(df.values[1:], columns=headers)\n",
    "    df = df.reset_index(drop = True)\n",
    "    df.to_csv('clean_election_data/tab_'+year+'.csv', sep=',')"
   ]
  },
  {
   "cell_type": "code",
   "execution_count": 23,
   "id": "034dcd9a",
   "metadata": {},
   "outputs": [],
   "source": [
    "for year in ['2010']:\n",
    "    df=pd.read_csv('raw_election_data/tab04b_'+year+'.csv', header = 1)\n",
    "    df = df.dropna(how='all').dropna(how='all', axis=1)\n",
    "    headers = df.iloc[0]\n",
    "    df  = pd.DataFrame(df.values[1:], columns=headers)\n",
    "    df = df.reset_index(drop = True)\n",
    "    df.to_csv('clean_election_data/tab_'+year+'.csv', sep=',')"
   ]
  },
  {
   "cell_type": "markdown",
   "id": "c0760e1d",
   "metadata": {},
   "source": [
    "#### Years 2000 - 2008"
   ]
  },
  {
   "cell_type": "code",
   "execution_count": 24,
   "id": "56af29a8",
   "metadata": {},
   "outputs": [],
   "source": [
    "for year in ['2004','2006','2008']:\n",
    "    df=pd.read_csv('raw_election_data/tab04b_'+year+'.csv', header = 2, skiprows = lambda x: x in [0, 3])\n",
    "    df = df.dropna(how='all').dropna(how='all', axis=1)\n",
    "    df['State'] = df['State, sex, race, and Hispanic origin']\n",
    "    cols = list(df.columns)\n",
    "    cols = [cols[-1]] + cols[:-1]\n",
    "    df = df[cols]\n",
    "    df = df.reset_index(drop = True)\n",
    "    df.to_csv('clean_election_data/tab_'+year+'.csv', sep=',')\n",
    "    "
   ]
  },
  {
   "cell_type": "code",
   "execution_count": 25,
   "id": "2523dc84",
   "metadata": {},
   "outputs": [],
   "source": [
    "for year in ['2002']:\n",
    "    df=pd.read_csv('raw_election_data/tab04b_'+year+'.csv', header = 2, skiprows = lambda x: x in [0, 3])\n",
    "    df = df.dropna(how='all').dropna(how='all', axis=1)\n",
    "    df['State, sex, race, and Hispanic origin']=df['STATE']\n",
    "    cols = list(df.columns)\n",
    "    cols = [cols[-1]] + cols[:-1]\n",
    "    df = df[cols]\n",
    "    df = df.reset_index(drop = True)\n",
    "    df.to_csv('clean_election_data/tab_'+year+'.csv', sep=',')"
   ]
  },
  {
   "cell_type": "code",
   "execution_count": 26,
   "id": "cdbd4d8a",
   "metadata": {},
   "outputs": [],
   "source": [
    "for year in ['2000']:\n",
    "    df=pd.read_csv('raw_election_data/tab04b_'+year+'.csv', header = 3, skiprows = lambda x: x in [0, 3])\n",
    "    df = df.dropna(how='all').dropna(how='all', axis=1)\n",
    "    headers = df.iloc[0]\n",
    "    df  = pd.DataFrame(df.values[1:], columns=headers)\n",
    "    df['State, sex, race, and Hispanic origin']=df['STATE']\n",
    "    cols = list(df.columns)\n",
    "    cols = [cols[-1]] + cols[:-1]\n",
    "    df = df[cols]\n",
    "    df = df.reset_index(drop = True)\n",
    "    df.to_csv('clean_election_data/tab_'+year+'.csv', sep=',')"
   ]
  },
  {
   "cell_type": "markdown",
   "id": "0e99c6d7",
   "metadata": {},
   "source": [
    "#### Years 1990 - 1998"
   ]
  },
  {
   "cell_type": "code",
   "execution_count": 10,
   "id": "ca7b367a",
   "metadata": {},
   "outputs": [],
   "source": [
    "for year in ['1998']:\n",
    "    txt_file=  open('raw_election_data/tab04_1998.txt', 'r') \n",
    "    csv_file = open('raw_election_data/tab04_1998.csv','w')\n",
    "    s=txt_file.read().split('\\n')\n",
    "    s1=s[7].strip().split('|')\n",
    "    s2=s[8].strip().split('|')\n",
    "    z = list(zip(s1,s2))\n",
    "    column_name = [(a[0]+' '+a[1]).strip() for a in z]\n",
    "    column_name.extend(['']*5)\n",
    "    csvwriter = csv.writer(csv_file) \n",
    "    csvwriter.writerow(column_name) \n",
    "\n",
    "    for i in range(10,len(s)-6):\n",
    "        r =s[i].strip().split()\n",
    "        if r[3].isalpha():\n",
    "            r[0]=' '.join(r[:4])\n",
    "            r = [r[0]]+r[4:]\n",
    "        elif r[2].isalpha():\n",
    "            r[0]=' '.join(r[:3])\n",
    "            r = [r[0]]+r[3:]\n",
    "        elif r[1].isalpha():\n",
    "            r[0]=' '.join(r[:2])\n",
    "            r = [r[0]]+r[2:]       \n",
    "        if len(r)<16:\n",
    "            r.extend(['']*(16-len(r)))\n",
    "            csvwriter.writerow(r)\n",
    "    txt_file.close()\n",
    "    csv_file.close()\n",
    "    \n",
    "    df = pd.read_csv('raw_election_data/tab04_1998.csv')\n",
    "    df = df.dropna(how='all').dropna(how='all', axis=1)\n",
    "    df['State, sex, race, and Hispanic origin']=df['STATE']\n",
    "    cols = list(df.columns)\n",
    "    cols = [cols[-1]] + cols[:-1]\n",
    "    df = df[cols]\n",
    "    df = df.reset_index(drop = True)\n",
    "    df.to_csv('clean_election_data/tab_'+year+'.csv', sep=',')\n",
    "    "
   ]
  },
  {
   "cell_type": "code",
   "execution_count": null,
   "id": "67309e87",
   "metadata": {},
   "outputs": [],
   "source": [
    "for year in ['1996']:\n",
    "    df_page24 = pd.concat(read_pdf(\"raw_election_data/table4_\"+year+\".pdf\", multiple_tables=True, area=[[100.875,12.75,600,425]],pages=[24],pandas_options={'header': None}))\n",
    "    df_rest = pd.concat(read_pdf(\"raw_election_data/table4_\"+year+\".pdf\", multiple_tables=True, area=[[120.875,12.75,540,425]],pages=list(range(25,32)),pandas_options={'header': None}))\n",
    "    frames = [df_page24, df_rest]\n",
    "    df = pd.concat(frames)\n",
    "    df=df.reset_index(drop = True)\n",
    "    df=df.drop(df.index[366])\n",
    "    df.to_csv('clean_election_data/tab_'+year+'.csv', sep=',')"
   ]
  },
  {
   "cell_type": "code",
   "execution_count": 2,
   "id": "681a853c",
   "metadata": {},
   "outputs": [],
   "source": [
    "for year in ['1994']:\n",
    "    txt_file=  open('raw_election_data/tab04_'+year+'.txt', 'r') \n",
    "    csv_file = open('raw_election_data/tab04_'+year+'.csv','w')\n",
    "    csvwriter = csv.writer(csv_file) \n",
    "\n",
    "    column_names = ['STATE', 'All Persons','Total Registered','Percent Registered', 'Standard Error',\n",
    "                  'Total Voted','Percent Voted','Standard Error']\n",
    "    csvwriter.writerow(column_names)\n",
    "\n",
    "\n",
    "    s=txt_file.read().split('\\n')\n",
    "    s[15]=s[15].replace('TOTAL','UNITED STATES')\n",
    "\n",
    "    intervals=[(15,62), (130,179),(247,296),(364,413),(481,530),(598,647), \n",
    "               (715,764),(832,881),(949,998),(1066,1115),(1183,1202)]\n",
    "\n",
    "    for t in intervals:\n",
    "        for i in range(t[0],t[1]):\n",
    "            s[i] = list(filter(('.').__ne__, s[i].split()))\n",
    "\n",
    "        for i in range(t[0],t[1]):\n",
    "            if len(s[i]) == 1:\n",
    "                s[i+2][0]=s[i][0]+' '+s[i+2][0]\n",
    "            elif len(s[i]) == 2:\n",
    "                s[i+2][0]=s[i][0]+' '+s[i][1]+' '+s[i+2][0]\n",
    "            elif len(s[i]) == 3:\n",
    "                s[i+2][0]=s[i][0]+' '+s[i][1]+' '+s[i][2]+' '+s[i+2][0]\n",
    "\n",
    "            if len(s[i])>3:\n",
    "                if s[i][1].isalpha():\n",
    "                    s[i][0]=s[i][0]+' '+s[i][1]\n",
    "                    s[i].remove(s[i][1])\n",
    "\n",
    "                csvwriter.writerow(s[i])\n",
    "\n",
    "    txt_file.close()\n",
    "    csv_file.close()\n",
    "    df =  pd.read_csv('raw_election_data/tab04_'+year+'.csv')\n",
    "    df['State, sex, race, and Hispanic origin']=df['STATE']\n",
    "    cols = list(df.columns)\n",
    "    cols = [cols[-1]] + cols[:-1]\n",
    "    df = df[cols]\n",
    "    df = df.reset_index(drop = True)\n",
    "    df.to_csv('clean_election_data/tab_'+year+'.csv', sep=',')"
   ]
  },
  {
   "cell_type": "code",
   "execution_count": 2,
   "id": "231c0331",
   "metadata": {},
   "outputs": [],
   "source": [
    "import pandas as pd\n",
    "df = pd.read_csv('clean_election_data/tab_1994.csv')"
   ]
  },
  {
   "cell_type": "code",
   "execution_count": null,
   "id": "64f0e684",
   "metadata": {},
   "outputs": [],
   "source": []
  },
  {
   "cell_type": "markdown",
   "id": "6619935b",
   "metadata": {},
   "source": [
    "###  Using PySpark, clean2  (some changes by hand to the csv files are needed)"
   ]
  },
  {
   "cell_type": "code",
   "execution_count": 1,
   "id": "d67682b6",
   "metadata": {},
   "outputs": [
    {
     "name": "stderr",
     "output_type": "stream",
     "text": [
      "Setting default log level to \"WARN\".\n",
      "To adjust logging level use sc.setLogLevel(newLevel). For SparkR, use setLogLevel(newLevel).\n"
     ]
    },
    {
     "name": "stdout",
     "output_type": "stream",
     "text": [
      "22/11/10 08:48:54 WARN NativeCodeLoader: Unable to load native-hadoop library for your platform... using builtin-java classes where applicable\n"
     ]
    },
    {
     "name": "stderr",
     "output_type": "stream",
     "text": [
      "/Users/umaiyer/opt/anaconda3/lib/python3.9/site-packages/pyspark/sql/context.py:112: FutureWarning: Deprecated in 3.0.0. Use SparkSession.builder.getOrCreate() instead.\n",
      "  warnings.warn(\n"
     ]
    }
   ],
   "source": [
    "from pyspark import SparkContext\n",
    "sc = SparkContext(\"local[*]\", \"badxml\")\n",
    "from pyspark import SQLContext\n",
    "sqlContext = SQLContext(sc)"
   ]
  },
  {
   "cell_type": "code",
   "execution_count": 2,
   "id": "4294c493",
   "metadata": {},
   "outputs": [],
   "source": [
    "from pyspark.sql.functions import col, regexp_replace, translate, overlay, when, expr,udf,upper,concat,concat_ws\n",
    "\n",
    "from pyspark.sql.types import IntegerType,BooleanType,DateType,StringType"
   ]
  },
  {
   "cell_type": "markdown",
   "id": "2c7a1540",
   "metadata": {},
   "source": [
    "### 1994"
   ]
  },
  {
   "cell_type": "code",
   "execution_count": null,
   "id": "aeffef1f",
   "metadata": {},
   "outputs": [],
   "source": [
    "df94 = sqlContext.read.csv('clean_election_data/tab_1994.csv').\\\n",
    "        toDF('co','Categories','State','Total_Population','Total_Registered','Percent_Registered','Standard_Error',\n",
    "             'Total_Voted','Percent_Voted','Standard_Error').\\\n",
    "        select(['State','Total_Population','Total_Registered','Total_Voted'])\n",
    "df94 = df94.withColumn(\"Total_Population\",df94.Total_Population.cast(IntegerType())).\\\n",
    "        withColumn(\"Total_Registered\",df94.Total_Registered.cast(IntegerType())).\\\n",
    "        withColumn(\"Total_Voted\",df94.Total_Voted.cast(IntegerType()))\n",
    "df94.write.csv(\"clean2_election_data/tab_1994.csv\")"
   ]
  },
  {
   "cell_type": "markdown",
   "id": "33195ec6",
   "metadata": {},
   "source": [
    "### 1996"
   ]
  },
  {
   "cell_type": "code",
   "execution_count": null,
   "id": "b251719b",
   "metadata": {},
   "outputs": [],
   "source": [
    "df96 = sqlContext.read.csv('clean_election_data/tab_1996.csv').\\\n",
    "        toDF('co','Categories1','Total_Population','Total_Registered','Percent_Registered','Standard_Error',\n",
    "             'Total_Voted','Percent_Voted','Standard_Error').\\\n",
    "        withColumn(\"Categories\", regexp_replace('Categories1', '\\.', '')).\\\n",
    "        withColumn(\"Total_Population\", regexp_replace('Total_Population', ',', '')).\\\n",
    "        withColumn(\"Total_Registered\", regexp_replace('Total_Registered', ',', '')).\\\n",
    "        withColumn(\"Total_Voted\", regexp_replace('Total_Voted', ',', '')).\\\n",
    "        select(['Categories','Total_Population','Total_Registered','Total_Voted'])\n",
    "    \n",
    "\n",
    "df96=df96.withColumn(\"Total_Population\",df96.Total_Population.cast(IntegerType())).\\\n",
    "        withColumn(\"Total_Registered\",df96.Total_Registered.cast(IntegerType())).\\\n",
    "        withColumn(\"Total_Voted\",df96.Total_Voted.cast(IntegerType()))\n",
    "df96.write.csv(\"clean2_election_data/tab_1996.csv\")"
   ]
  },
  {
   "cell_type": "markdown",
   "id": "df1314df",
   "metadata": {},
   "source": [
    "### 1998. We have more rows here because we have more categories."
   ]
  },
  {
   "cell_type": "code",
   "execution_count": null,
   "id": "53f19de0",
   "metadata": {},
   "outputs": [],
   "source": [
    "df98 = sqlContext.read.csv('clean_election_data/tab_1998.csv').\\\n",
    "        toDF('c0', 'Categories','STATE', 'Total_Population', 'Total_Citizen','Percent_Citizen', 'Standard_Error', \n",
    "             'Total_Registered', 'Percent_Registered', 'Standard_Error', 'Total_Voted', 'Percent_Voted', \n",
    "             'Standard_Error').\\\n",
    "        withColumn(\"Total_Population\", regexp_replace('Total_Population', ',', '')).\\\n",
    "        withColumn(\"Total_Registered\", regexp_replace('Total_Registered', ',', '')).\\\n",
    "        withColumn(\"Total_Voted\", regexp_replace('Total_Voted', ',', '')).\\\n",
    "        select(['Categories','Total_Population','Total_Registered','Total_Voted'])\n",
    "df98=df98.withColumn(\"Total_Population\",df98.Total_Population.cast(IntegerType())).\\\n",
    "        withColumn(\"Total_Registered\",df98.Total_Registered.cast(IntegerType())).\\\n",
    "        withColumn(\"Total_Voted\",df98.Total_Voted.cast(IntegerType()))\n",
    "df98.write.csv(\"clean2_election_data/tab_1998.csv\")"
   ]
  },
  {
   "cell_type": "markdown",
   "id": "42650797",
   "metadata": {},
   "source": [
    "### 2000. We have more rows here, compared to 1998. Moreover, now Total Population is Population 18 or over"
   ]
  },
  {
   "cell_type": "code",
   "execution_count": 9,
   "id": "1f244b78",
   "metadata": {},
   "outputs": [],
   "source": [
    "df00 = sqlContext.read.csv('clean_election_data/tab_2000.csv').\\\n",
    "            toDF('c0','State', 'Categories1', \n",
    "                'c3','Total_Population','Total citizen', 'Percent citizen', \n",
    "                 'Confidence interval', 'Confidence interval', 'Confidence interval', \n",
    "                 'Total_Registered', 'Percent registered (18+)', \n",
    "                 'Confidence interval', 'Confidence interval', \n",
    "                 'Confidence interval', 'Total_Voted', 'Percent voted (18+)', \n",
    "                 'Confidence interval', 'Confidence interval', 'Confidence interval').\\\n",
    "            withColumn(\"Total_Population\", regexp_replace('Total_Population', ',', '')).\\\n",
    "            withColumn(\"Total_Registered\", regexp_replace('Total_Registered', ',', '')).\\\n",
    "            withColumn(\"Total_Voted\", regexp_replace('Total_Voted', ',', ''))\n",
    "df00 = df00.select([concat_ws('-',df00.Categories1,df00.c3).alias('Categories'),\n",
    "                    'Total_Population','Total_Registered','Total_Voted']).\\\n",
    "            withColumn(\"Total_Population\",df00.Total_Population.cast(IntegerType())).\\\n",
    "            withColumn(\"Total_Registered\",df00.Total_Registered.cast(IntegerType())).\\\n",
    "            withColumn(\"Total_Voted\",df00.Total_Voted.cast(IntegerType()))\n",
    "df00.write.csv(\"clean2_election_data/tab_2000.csv\")"
   ]
  },
  {
   "cell_type": "markdown",
   "id": "bff88dc6",
   "metadata": {},
   "source": [
    "### 2002"
   ]
  },
  {
   "cell_type": "code",
   "execution_count": null,
   "id": "a55b7b35",
   "metadata": {},
   "outputs": [],
   "source": [
    "df02 = sqlContext.read.csv('clean_election_data/tab_2002.csv').\\\n",
    "        toDF('c0', \n",
    "             'STATE','Categories', 'Total_Population', 'Total citizen', 'Percent citizen','Confidence interval', \n",
    "             'Total_Registered','Percent registered (18+)','Confidence interval.1',\n",
    "             'Total_Voted', 'Percent voted (18+)', 'Confidence interval.2').\\\n",
    "        withColumn(\"Categories\", regexp_replace('Categories', '\\.', '')).\\\n",
    "        withColumn(\"Total_Population\", regexp_replace('Total_Population', ',', '')).\\\n",
    "        withColumn(\"Total_Registered\", regexp_replace('Total_Registered', ',', '')).\\\n",
    "        withColumn(\"Total_Voted\", regexp_replace('Total_Voted', ',', '')).\\\n",
    "        select(['Categories','Total_Population','Total_Registered','Total_Voted'])\n",
    "df02 = df02.withColumn(\"Total_Population\",df02.Total_Population.cast(IntegerType())).\\\n",
    "        withColumn(\"Total_Registered\",df02.Total_Registered.cast(IntegerType())).\\\n",
    "        withColumn(\"Total_Voted\",df02.Total_Voted.cast(IntegerType()))\n",
    "df02.write.csv(\"clean2_election_data/tab_2002.csv\")"
   ]
  },
  {
   "cell_type": "markdown",
   "id": "34701134",
   "metadata": {},
   "source": [
    "### 2004"
   ]
  },
  {
   "cell_type": "code",
   "execution_count": null,
   "id": "db2adb1e",
   "metadata": {},
   "outputs": [],
   "source": [
    "df04 = sqlContext.read.csv('clean_election_data/tab_2004.csv').\\\n",
    "        toDF('c0', 'State','Categories','Total_Population', 'Total_Citizen', 'Percent citizen (18+)', \n",
    "             'Margin of error1', 'Total_Registered', 'Percent_Registered','Margin of error1.1', \n",
    "             'Total_Voted', 'Percent voted','Margin of error1.2').\\\n",
    "        withColumn(\"Categories\", regexp_replace('Categories', '\\.', '')).\\\n",
    "        withColumn(\"Total_Population\", regexp_replace('Total_Population', ',', '')).\\\n",
    "        withColumn(\"Total_Registered\", regexp_replace('Total_Registered', ',', '')).\\\n",
    "        withColumn(\"Total_Voted\", regexp_replace('Total_Voted', ',', '')).\\\n",
    "        select(['Categories','Total_Population','Total_Registered','Total_Voted'])\n",
    "df04 = df04.withColumn(\"Total_Population\",df04.Total_Population.cast(IntegerType())).\\\n",
    "        withColumn(\"Total_Registered\",df04.Total_Registered.cast(IntegerType())).\\\n",
    "        withColumn(\"Total_Voted\",df04.Total_Voted.cast(IntegerType()))\n",
    "df04.write.csv(\"clean2_election_data/tab_2004.csv\")"
   ]
  },
  {
   "cell_type": "markdown",
   "id": "70d664d7",
   "metadata": {},
   "source": [
    "# 2006, 2008"
   ]
  },
  {
   "cell_type": "code",
   "execution_count": null,
   "id": "32ede577",
   "metadata": {},
   "outputs": [],
   "source": [
    "#First clean with pandas for some extra lines:\n",
    "states=['UNITED_STATES','ALABAMA','ALASKA','ARIZONA','ARKANSAS','CALIFORNIA', 'COLORADO','CONNECTICUT','DELAWARE',\n",
    "        'DISTRICT_OF_COLUMBIA','FLORIDA','GEORGIA','HAWAII','IDAHO','ILLINOIS','INDIANA','IOWA',\n",
    "           'KANSAS','KENTUCKY','LOUISIANA','MAINE','MARYLAND','MASSACHUSETTS','MICHIGAN','MINNESOTA',\n",
    "           'MISSISSIPPI','MISSOURI', 'MONTANA', 'NEBRASKA','NEVADA', 'NEW_HAMPSHIRE','NEW_JERSEY',\n",
    "           'NEW_MEXICO','NEW_YORK','NORTH_CAROLINA', 'NORTH_DAKOTA','OHIO', 'OKLAHOMA','OREGON',\n",
    "           'PENNSYLVANIA','RHODE_ISLAND','SOUTH_CAROLINA','SOUTH_DAKOTA','TENNESSEE','TEXAS',\n",
    "           'UTAH','VERMONT', 'VIRGINIA','WASHINGTON', 'WEST_VIRGINIA','WISCONSIN','WYOMING']\n",
    "\n",
    "for year in ['2006','2008']:\n",
    "\n",
    "    df=pd.read_csv('clean_election_data/tab_'+year+'.csv')\n",
    "    df.drop('Unnamed: 0', axis=1, inplace=True)\n",
    "\n",
    "    df.at[0,'State']=states[0]+'-Total'\n",
    "    df.at[0,'State, sex, race, and Hispanic origin']=states[0]+'-Total'\n",
    "\n",
    "    for i in range(1,52):\n",
    "        df.at[12*i,'State']=states[i]+'-Total'\n",
    "        df.at[12*i,'State, sex, race, and Hispanic origin']=states[i]+'-Total'\n",
    "        df.drop(12*i-1,inplace=True)\n",
    "\n",
    "    df.reset_index(drop=True,inplace=True)\n",
    "    df.to_csv('clean_election_data/tab_'+year+'.csv', sep=',')  #Placed back in clean folder. \n",
    "\n",
    "    #Don't run again."
   ]
  },
  {
   "cell_type": "code",
   "execution_count": null,
   "id": "695d1839",
   "metadata": {},
   "outputs": [],
   "source": [
    "# Now go to PySpark\n",
    "for year in ['2006','2008']:\n",
    "    df = sqlContext.read.csv('clean_election_data/tab_'+year+'.csv').\\\n",
    "        toDF('c0', 'Unnamed: 0','State', 'Categories', \n",
    "             'Total_Population', 'Total Citizen Population', 'Total_Registered', \n",
    "             'Percent_Registered (Total 18+)', 'Margin of error1', 'Percent registered (Citizen 18+)', \n",
    "             'Margin of error1.1', 'Total_Voted','Percent voted (Total 18+)',\n",
    "             'Margin of error1.2', 'Percent voted (Citizen 18+)', 'Margin of error1.3').\\\n",
    "            withColumn(\"Categories\", regexp_replace('Categories', '\\.', '')).\\\n",
    "            withColumn(\"Total_Population\", regexp_replace('Total_Population', ',', '')).\\\n",
    "            withColumn(\"Total_Registered\", regexp_replace('Total_Registered', ',', '')).\\\n",
    "            withColumn(\"Total_Voted\", regexp_replace('Total_Voted', ',', '')).\\\n",
    "            select(['Categories','Total_Population','Total_Registered','Total_Voted'])\n",
    "    df = df.withColumn(\"Total_Population\",df.Total_Population.cast(IntegerType())).\\\n",
    "            withColumn(\"Total_Registered\",df.Total_Registered.cast(IntegerType())).\\\n",
    "            withColumn(\"Total_Voted\",df.Total_Voted.cast(IntegerType()))\n",
    "    df.write.csv('clean2_election_data/tab_'+year+'.csv')"
   ]
  },
  {
   "cell_type": "markdown",
   "id": "b4cdd74a",
   "metadata": {},
   "source": [
    "### 2010"
   ]
  },
  {
   "cell_type": "code",
   "execution_count": null,
   "id": "71ec9912",
   "metadata": {},
   "outputs": [],
   "source": [
    "df10 = sqlContext.read.csv('clean_election_data/tab_2010.csv').\\\n",
    "    toDF('Unnamed: 0', 'STATE', 'Categories', 'Total_Population',\n",
    "       'Total Citizen Population', 'Total_Registered',\n",
    "       'Percent registered\\n(Total)', 'Margin of Error1',\n",
    "       'Percent registered\\n(Citizen)', 'Margin of Error1.1', 'Total_Voted',\n",
    "       'Percent voted\\n(Total)', 'Margin of Error1.2',\n",
    "       'Percent voted\\n(Citizen)', 'Margin of Error1.3').\\\n",
    "        withColumn(\"Categories\", regexp_replace('Categories', '\\.', '')).\\\n",
    "        withColumn(\"Total_Population\", regexp_replace('Total_Population', ',', '')).\\\n",
    "        withColumn(\"Total_Registered\", regexp_replace('Total_Registered', ',', '')).\\\n",
    "        withColumn(\"Total_Voted\", regexp_replace('Total_Voted', ',', '')).\\\n",
    "        select(['STATE','Categories','Total_Population','Total_Registered','Total_Voted'])\n",
    "df10 = df10.select(concat_ws('-',df10.STATE,df10.Categories)\n",
    "              .alias(\"Categories\"),'Total_Population','Total_Registered','Total_Voted')\n",
    "df10 = df10.withColumn(\"Total_Population\",df10.Total_Population.cast(IntegerType())).\\\n",
    "        withColumn(\"Total_Registered\",df10.Total_Registered.cast(IntegerType())).\\\n",
    "        withColumn(\"Total_Voted\",df10.Total_Voted.cast(IntegerType()))\n",
    "\n",
    "df10.write.csv(\"clean2_election_data/tab_2010.csv\")"
   ]
  },
  {
   "cell_type": "markdown",
   "id": "bc2ee6ef",
   "metadata": {},
   "source": [
    "# 2012"
   ]
  },
  {
   "cell_type": "code",
   "execution_count": null,
   "id": "c66e93de",
   "metadata": {},
   "outputs": [],
   "source": [
    "df12 = sqlContext.read.csv('clean_election_data/tab_2012.csv').\\\n",
    "    toDF('c0','STATE','Categories','Total_Population','Total_Citizen_Population',\n",
    "         'Total_Registered',\"Percent_Registered (Total)\",\n",
    "         'Margin of Error1',\"Percent registered (Citizen)\",\n",
    "         'Margin of Error', 'Total_Voted',\"Percent voted (Total)\",\n",
    "         'Margin of Error', \"Percent voted (Citizen)\",\n",
    "         'Margin of Error').\\\n",
    "        withColumn(\"Categories\", regexp_replace('Categories', '\\.', '')).\\\n",
    "        withColumn(\"Total_Population\", regexp_replace('Total_Population', ',', '')).\\\n",
    "        withColumn(\"Total_Registered\", regexp_replace('Total_Registered', ',', '')).\\\n",
    "        withColumn(\"Total_Voted\", regexp_replace('Total_Voted', ',', '')).\\\n",
    "        select(['STATE','Categories','Total_Population','Total_Registered','Total_Voted'])\n",
    "df12 = df12.select(concat_ws('-',df12.STATE,df12.Categories)\n",
    "              .alias(\"Categories\"),'Total_Population','Total_Registered','Total_Voted')\n",
    "df12 = df12.withColumn(\"Total_Population\",df12.Total_Population.cast(IntegerType())).\\\n",
    "        withColumn(\"Total_Registered\",df12.Total_Registered.cast(IntegerType())).\\\n",
    "        withColumn(\"Total_Voted\",df12.Total_Voted.cast(IntegerType()))\n",
    "\n",
    "df12.write.csv(\"clean2_election_data/tab_2012.csv\")"
   ]
  },
  {
   "cell_type": "markdown",
   "id": "d8ecd4b7",
   "metadata": {},
   "source": [
    "# 2014"
   ]
  },
  {
   "cell_type": "code",
   "execution_count": null,
   "id": "20d6be7a",
   "metadata": {},
   "outputs": [],
   "source": [
    "df14 = sqlContext.read.csv('clean_election_data/tab_2014.csv').\\\n",
    "        toDF('c0','STATE','Categories','Total_Population','Total Citizen Population',\n",
    "             'Total_Registered',\"Percent registered (Total)\",\n",
    "             'Margin of Error1',\"Percent registered (Citizen)\",\n",
    "             'Margin of Error','Total_Voted',\n",
    "             \"Percent voted (Total)\",'Margin of Error',\n",
    "             \"Percent voted (Citizen)\",'Margin of Error').\\\n",
    "        withColumn(\"Categories\", regexp_replace('Categories', '\\.', '')).\\\n",
    "        withColumn(\"Total_Population\", regexp_replace('Total_Population', ',', '')).\\\n",
    "        withColumn(\"Total_Registered\", regexp_replace('Total_Registered', ',', '')).\\\n",
    "        withColumn(\"Total_Voted\", regexp_replace('Total_Voted', ',', '')).\\\n",
    "        select(['STATE','Categories','Total_Population','Total_Registered','Total_Voted'])\n",
    "df14 = df14.select(concat_ws('-',df14.STATE,df14.Categories)\n",
    "              .alias(\"Categories\"),'Total_Population','Total_Registered','Total_Voted')\n",
    "df14 = df14.withColumn(\"Total_Population\",df14.Total_Population.cast(IntegerType())).\\\n",
    "        withColumn(\"Total_Registered\",df14.Total_Registered.cast(IntegerType())).\\\n",
    "        withColumn(\"Total_Voted\",df14.Total_Voted.cast(IntegerType()))\n",
    "\n",
    "df14.write.csv(\"clean2_election_data/tab_2014.csv\")"
   ]
  },
  {
   "cell_type": "markdown",
   "id": "2e643746",
   "metadata": {},
   "source": [
    "# 2016"
   ]
  },
  {
   "cell_type": "code",
   "execution_count": null,
   "id": "f34b225f",
   "metadata": {},
   "outputs": [],
   "source": [
    "df16 = sqlContext.read.csv('clean_election_data/tab_2016.csv').\\\n",
    "        toDF('c0','STATE','Categories','Total_Population',\n",
    "             'Total Citizen Population','Total_Registered',\"Percent registered (Total)\",\n",
    "             'Margin of Error 1',\"Percent registered (Citizen)\",\n",
    "             'Margin of Error 1','Total_Voted',\"Percent voted (Total)\",\n",
    "             'Margin of Error 1',\"Percent voted(Citizen)\",'Margin of Error 1').\\\n",
    "        withColumn(\"Categories\", regexp_replace('Categories', '\\.', '')).\\\n",
    "        withColumn(\"Total_Population\", regexp_replace('Total_Population', ',', '')).\\\n",
    "        withColumn(\"Total_Registered\", regexp_replace('Total_Registered', ',', '')).\\\n",
    "        withColumn(\"Total_Voted\", regexp_replace('Total_Voted', ',', '')).\\\n",
    "        select(['STATE','Categories','Total_Population','Total_Registered','Total_Voted'])\n",
    "\n",
    "df16 = df16.select(concat_ws('-',df16.STATE,df16.Categories)\n",
    "              .alias(\"Categories\"),'Total_Population','Total_Registered','Total_Voted')\n",
    "df16 = df16.withColumn(\"Total_Population\",df16.Total_Population.cast(IntegerType())).\\\n",
    "        withColumn(\"Total_Registered\",df16.Total_Registered.cast(IntegerType())).\\\n",
    "        withColumn(\"Total_Voted\",df16.Total_Voted.cast(IntegerType()))\n",
    "\n",
    "df16.write.csv(\"clean2_election_data/tab_2016.csv\")"
   ]
  },
  {
   "cell_type": "markdown",
   "id": "4112d41c",
   "metadata": {},
   "source": [
    "# 2018"
   ]
  },
  {
   "cell_type": "code",
   "execution_count": null,
   "id": "58d5556b",
   "metadata": {},
   "outputs": [],
   "source": [
    "df18 = sqlContext.read.csv('clean_election_data/tab_2018.csv').\\\n",
    "        toDF('c0','STATE','Categories','Total_Population',\n",
    "             'Total Citizen Population','Total_Registered',\"Percent registered (Total)\",\n",
    "             'Margin of Error 1',\"Percent registered (Citizen)\",\n",
    "             'Margin of Error 1','Total_Voted',\"Percent voted (Total)\",\n",
    "             'Margin of Error 1',\"Percent voted(Citizen)\",'Margin of Error 1').\\\n",
    "        withColumn(\"Categories\", regexp_replace('Categories', '\\.', '')).\\\n",
    "        withColumn(\"Total_Population\", regexp_replace('Total_Population', ',', '')).\\\n",
    "        withColumn(\"Total_Registered\", regexp_replace('Total_Registered', ',', '')).\\\n",
    "        withColumn(\"Total_Voted\", regexp_replace('Total_Voted', ',', '')).\\\n",
    "        select(['STATE','Categories','Total_Population','Total_Registered','Total_Voted'])\n",
    "\n",
    "df18 = df18.select(concat_ws('-',df18.STATE,df18.Categories)\n",
    "              .alias(\"Categories\"),'Total_Population','Total_Registered','Total_Voted')\n",
    "df18 = df18.withColumn(\"Total_Population\",df18.Total_Population.cast(IntegerType())).\\\n",
    "        withColumn(\"Total_Registered\",df18.Total_Registered.cast(IntegerType())).\\\n",
    "        withColumn(\"Total_Voted\",df18.Total_Voted.cast(IntegerType()))\n",
    "\n",
    "df18.write.csv(\"clean2_election_data/tab_2018.csv\")"
   ]
  },
  {
   "cell_type": "markdown",
   "id": "96f65dad",
   "metadata": {},
   "source": [
    "# 2020"
   ]
  },
  {
   "cell_type": "code",
   "execution_count": null,
   "id": "0e956e5c",
   "metadata": {},
   "outputs": [],
   "source": [
    "df20 = sqlContext.read.csv('clean_election_data/tab_2020.csv').\\\n",
    "        toDF('c0','STATE',\"Categories\",'Total_Population','Total citizen population',\n",
    "             'Total_Registered',\"Percent registered (Total)\",\n",
    "             'Margin of error 1',\"Percent registered (Citizen)\",\n",
    "             'Margin of error 1.1','Total_Voted',\"Percent voted (Total)\",\n",
    "             'Margin of error 1.2',\"Percent voted (Citizen)\",'Margin of error 1.3').\\\n",
    "        withColumn(\"Categories\", regexp_replace('Categories', '\\.', '')).\\\n",
    "        withColumn(\"Total_Population\", regexp_replace('Total_Population', ',', '')).\\\n",
    "        withColumn(\"Total_Registered\", regexp_replace('Total_Registered', ',', '')).\\\n",
    "        withColumn(\"Total_Voted\", regexp_replace('Total_Voted', ',', '')).\\\n",
    "        select(['STATE','Categories','Total_Population','Total_Registered','Total_Voted'])\n",
    "df20 = df20.select(concat_ws('-',df20.STATE,df20.Categories)\n",
    "              .alias(\"Categories\"),'Total_Population','Total_Registered','Total_Voted')\n",
    "df20 = df20.withColumn(\"Total_Population\",df20.Total_Population.cast(IntegerType())).\\\n",
    "        withColumn(\"Total_Registered\",df20.Total_Registered.cast(IntegerType())).\\\n",
    "        withColumn(\"Total_Voted\",df20.Total_Voted.cast(IntegerType()))\n",
    "df20.write.csv(\"clean2_election_data/tab_2020.csv\")"
   ]
  },
  {
   "cell_type": "markdown",
   "id": "9e7e2285",
   "metadata": {},
   "source": [
    "# Clearn 3 (PySpark) "
   ]
  },
  {
   "cell_type": "code",
   "execution_count": 10,
   "id": "f49b20c9",
   "metadata": {},
   "outputs": [],
   "source": [
    "df94 = sqlContext.read.csv('clean2_election_data/tab_1994.csv/part-00000-2dbc3ac1-4d8d-40c7-b116-4557dbefed89-c000.csv').\\\n",
    "                    toDF('Categories','Total_Population_1994','Total_Registered_1994','Total_Voted_1994').\\\n",
    "                    withColumn(\"Categories\", regexp_replace('Categories', '\\.', ''))\n",
    "df94.toPandas().to_csv(\"clean3_election_data/tab_1994.csv\", header=True)"
   ]
  },
  {
   "cell_type": "code",
   "execution_count": 11,
   "id": "f5be5fe4",
   "metadata": {},
   "outputs": [],
   "source": [
    "df96 = sqlContext.read.csv('clean2_election_data/tab_1996.csv/part-00000-62d4b2fd-777f-4da0-be56-0d960899077f-c000.csv').\\\n",
    "                    toDF('Categories','Total_Population_1996','Total_Registered_1996','Total_Voted_1996').\\\n",
    "                    withColumn(\"Categories\", regexp_replace('Categories', '-', ' ')).\\\n",
    "                    withColumn(\"Categories\", regexp_replace('Categories', 'Hispanic origin1', 'HISPANIC ORIGIN')).\\\n",
    "                    select(\"*\", upper(col('Categories'))).\\\n",
    "                    drop(col('Categories')).\\\n",
    "                    withColumnRenamed('upper(Categories)','Categories').\\\n",
    "                    select('Categories', 'Total_Population_1996','Total_Registered_1996','Total_Voted_1996')\n",
    "\n",
    "df96.toPandas().to_csv(\"clean3_election_data/tab_1996.csv\", header=True)"
   ]
  },
  {
   "cell_type": "code",
   "execution_count": 12,
   "id": "9c748476",
   "metadata": {},
   "outputs": [],
   "source": [
    "df98 = sqlContext.read.csv('clean2_election_data/tab_1998.csv/part-00000-0a209eae-8f88-49a5-98f6-eb0bfc5bea52-c000.csv').\\\n",
    "                    toDF('Categories','Total_Population_1998','Total_Registered_1998','Total_Voted_1998').\\\n",
    "                    select(\"*\", upper(col('Categories'))).\\\n",
    "                    drop(col('Categories')).\\\n",
    "                    withColumnRenamed('upper(Categories)','Categories').\\\n",
    "                    withColumn(\"Categories\", regexp_replace('Categories', 'HISPANIC', 'HISPANIC ORIGIN')).\\\n",
    "                    select('Categories', 'Total_Population_1998','Total_Registered_1998','Total_Voted_1998').\\\n",
    "                    filter(~col('Categories').contains('N-H'))\n",
    "\n",
    "df98.toPandas().to_csv(\"clean3_election_data/tab_1998.csv\", header=True)"
   ]
  },
  {
   "cell_type": "code",
   "execution_count": 13,
   "id": "5e73bc90",
   "metadata": {},
   "outputs": [],
   "source": [
    "df00 = sqlContext.read.csv('clean2_election_data/tab_2000.csv/part-00000-e74bdb6a-cabd-4d34-a728-07adbf927ada-c000.csv').\\\n",
    "                    toDF('Categories','Total_Population_2000','Total_Registered_2000','Total_Voted_2000').\\\n",
    "                    withColumn(\"Categories\", regexp_replace('Categories', 'Hispanic', 'HISPANIC ORIGIN')).\\\n",
    "                    select(\"*\", upper(col('Categories'))).\\\n",
    "                    drop(col('Categories')).\\\n",
    "                    withColumnRenamed('upper(Categories)','Categories').\\\n",
    "                    select('Categories', 'Total_Population_2000','Total_Registered_2000','Total_Voted_2000').\\\n",
    "                    filter(~col('Categories').contains('N-H')).\\\n",
    "                    filter(~col('Categories').contains('API')).\\\n",
    "                    filter(~col('Categories').contains('NOTE:')).\\\n",
    "                    filter(~col('Categories').contains('MAY BE')).\\\n",
    "                    filter(~col('Categories').contains('REPRESENTS')).\\\n",
    "                    withColumn(\"Categories\", regexp_replace('Categories', '-', ' '))\n",
    "\n",
    "\n",
    "dp = df00.toPandas()\n",
    "for i in range(52):\n",
    "    a = dp.iloc[3+6*i]\n",
    "    temp = dp.drop(3+6*i)\n",
    "    temp.loc[6*i+5.5]=a\n",
    "    dp = temp.sort_index().reset_index(drop=True)\n",
    "dp.to_csv(\"clean3_election_data/tab_2000.csv\", header=True)"
   ]
  },
  {
   "cell_type": "code",
   "execution_count": 3,
   "id": "ea9938ff",
   "metadata": {},
   "outputs": [
    {
     "name": "stderr",
     "output_type": "stream",
     "text": [
      "\r",
      "[Stage 0:>                                                          (0 + 1) / 1]\r",
      "\r",
      "                                                                                \r"
     ]
    }
   ],
   "source": [
    "df02 = sqlContext.read.csv('clean2_election_data/tab_2002.csv/part-00000-56f03500-166c-4fed-a5a2-6e5a23b3bd09-c000.csv').\\\n",
    "                    toDF('Categories','Total_Population_2002','Total_Registered_2002','Total_Voted_2002').\\\n",
    "                    withColumn('Categories', regexp_replace('Categories', '-', ' ')).\\\n",
    "                    withColumn('Categories', regexp_replace('Categories', 'Hispanic \\(of any race\\)', 'HISPANIC ORIGIN')).\\\n",
    "                    select(\"*\", upper(col('Categories'))).\\\n",
    "                    drop(col('Categories')).\\\n",
    "                    withColumnRenamed('upper(Categories)','Categories').\\\n",
    "                    select('Categories', 'Total_Population_2002','Total_Registered_2002','Total_Voted_2002').\\\n",
    "                    filter(~col('Categories').contains('NON HISPANIC')).\\\n",
    "                    filter(~col('Categories').contains('ASIAN')).\\\n",
    "                    filter(~col('Categories').contains('FOOTNOTES:')).\\\n",
    "                    filter(~col('Categories').contains('NOTE:')).\\\n",
    "                    filter(~col('Categories').contains('SOURCE:')).\\\n",
    "                    filter(~col('Categories').contains('INTERNET'))\n",
    "                    \n",
    "       \n",
    "dp = df02.toPandas()\n",
    "for i in range(52):\n",
    "    a = dp.iloc[3+6*i]\n",
    "    temp = dp.drop(3+6*i)\n",
    "    temp.loc[6*i+5.5]=a\n",
    "    dp = temp.sort_index().reset_index(drop=True)\n",
    "dp.to_csv(\"clean3_election_data/tab_2002.csv\", header=True)"
   ]
  },
  {
   "cell_type": "code",
   "execution_count": 4,
   "id": "fe8e74f7",
   "metadata": {},
   "outputs": [],
   "source": [
    "df04 = sqlContext.read.csv('clean2_election_data/tab_2004.csv/part-00000-481d2a5d-6cc5-4d97-bd50-c9e7ba1b0c7e-c000.csv').\\\n",
    "                    toDF('Categories','Total_Population_2004','Total_Registered_2004','Total_Voted_2004').\\\n",
    "                    filter(~col('Categories').contains('White non-Hispanic')).\\\n",
    "                    filter(~col('Categories').contains('Non-Hispanic')).\\\n",
    "                    filter(~col('Categories').contains('Asian')).\\\n",
    "                    filter(~col('Categories').contains('or in combination')).\\\n",
    "                    filter(~col('Categories').contains('Footnotes:')).\\\n",
    "                    filter(~col('Categories').contains('This figure')).\\\n",
    "                    filter(~col('Categories').contains('1This figure')).\\\n",
    "                    filter(~col('Categories').contains('Note:')).\\\n",
    "                    filter(~col('Categories').contains('Source:')).\\\n",
    "                    filter(~col('Categories').contains('Internet')).\\\n",
    "                    withColumn('Categories', regexp_replace('Categories', '-', ' ')).\\\n",
    "                    withColumn('Categories', regexp_replace('Categories', 'Hispanic \\(of any race\\)', 'HISPANIC ORIGIN')).\\\n",
    "                    withColumn('Categories', regexp_replace('Categories', ' alone', '')).\\\n",
    "                    select(\"*\", upper(col('Categories'))).\\\n",
    "                    drop(col('Categories')).\\\n",
    "                    withColumnRenamed('upper(Categories)','Categories').\\\n",
    "                    select('Categories', 'Total_Population_2004','Total_Registered_2004','Total_Voted_2004')\n",
    "\n",
    "dp = df04.toPandas()\n",
    "dp.to_csv(\"clean3_election_data/tab_2004.csv\", header=True)"
   ]
  },
  {
   "cell_type": "code",
   "execution_count": null,
   "id": "ce6e6df2",
   "metadata": {},
   "outputs": [],
   "source": [
    "df06 = sqlContext.read.csv('clean2_election_data/tab_2006.csv/part-00000-860b541f-29d7-4776-b8c8-ccb88aab53f2-c000.csv').\\\n",
    "                    toDF('Categories','Total_Population_2006','Total_Registered_2006','Total_Voted_2006').\\\n",
    "                    filter(~col('Categories').contains('White non-Hispanic')).\\\n",
    "                    filter(~col('Categories').contains('Non-Hispanic')).\\\n",
    "                    filter(~col('Categories').contains('Asian')).\\\n",
    "                    filter(~col('Categories').contains('or in combination')).\\\n",
    "                    filter(~col('Categories').contains('Footnotes:')).\\\n",
    "                    filter(~col('Categories').contains('This figure')).\\\n",
    "                    filter(~col('Categories').contains('1This figure')).\\\n",
    "                    filter(~col('Categories').contains('NOTE:')).\\\n",
    "                    filter(~col('Categories').contains('Separate')).\\\n",
    "                    filter(~col('Categories').contains('Please')).\\\n",
    "                    filter(~col('Categories').contains('Source')).\\\n",
    "                    withColumn('Categories', regexp_replace('Categories', '-', ' ')).\\\n",
    "                    withColumn('Categories', regexp_replace('Categories', 'Hispanic \\(of any race\\)', 'HISPANIC ORIGIN')).\\\n",
    "                    withColumn('Categories', regexp_replace('Categories', ' alone', '')).\\\n",
    "                    select(\"*\", upper(col('Categories'))).\\\n",
    "                    drop(col('Categories')).\\\n",
    "                    withColumnRenamed('upper(Categories)','Categories').\\\n",
    "                    select('Categories', 'Total_Population_2006','Total_Registered_2006','Total_Voted_2006')\n",
    "\n",
    "dp = df06.toPandas()\n",
    "dp.to_csv(\"clean3_election_data/tab_2006.csv\", header=True)"
   ]
  },
  {
   "cell_type": "code",
   "execution_count": null,
   "id": "cd0bda61",
   "metadata": {},
   "outputs": [],
   "source": [
    "df08 = sqlContext.read.csv('clean2_election_data/tab_2008.csv/part-00000-ddaaf98f-29f0-4db1-9f96-1fa6da9f37bf-c000.csv').\\\n",
    "                    toDF('Categories','Total_Population_2008','Total_Registered_2008','Total_Voted_2008').\\\n",
    "                    filter(~col('Categories').contains('White non-Hispanic')).\\\n",
    "                    filter(~col('Categories').contains('Non-Hispanic')).\\\n",
    "                    filter(~col('Categories').contains('Asian')).\\\n",
    "                    filter(~col('Categories').contains('or in combination')).\\\n",
    "                    filter(~col('Categories').contains('Footnotes:')).\\\n",
    "                    filter(~col('Categories').contains('This figure')).\\\n",
    "                    filter(~col('Categories').contains('1This figure')).\\\n",
    "                    filter(~col('Categories').contains('NOTE:')).\\\n",
    "                    filter(~col('Categories').contains('Separate')).\\\n",
    "                    filter(~col('Categories').contains('Please')).\\\n",
    "                    filter(~col('Categories').contains('Source')).\\\n",
    "                    filter(~col('Categories').contains('Note')).\\\n",
    "                    filter(~col('Categories').contains('Internet')).\\\n",
    "                    withColumn('Categories', regexp_replace('Categories', '-', ' ')).\\\n",
    "                    withColumn('Categories', regexp_replace('Categories', 'Hispanic \\(of any race\\)', 'HISPANIC ORIGIN')).\\\n",
    "                    withColumn('Categories', regexp_replace('Categories', ' alone', '')).\\\n",
    "                    select(\"*\", upper(col('Categories'))).\\\n",
    "                    drop(col('Categories')).\\\n",
    "                    withColumnRenamed('upper(Categories)','Categories').\\\n",
    "                    select('Categories', 'Total_Population_2008','Total_Registered_2008','Total_Voted_2008')\n",
    "\n",
    "\n",
    "dp = df08.toPandas()\n",
    "dp.to_csv(\"clean3_election_data/tab_2008.csv\", header=True)"
   ]
  },
  {
   "cell_type": "code",
   "execution_count": null,
   "id": "734a98b7",
   "metadata": {},
   "outputs": [],
   "source": [
    "df10 = sqlContext.read.csv('clean2_election_data/tab_2010.csv/part-00000-b0711a8f-1561-4606-ada0-f065376c01e0-c000.csv').\\\n",
    "                    toDF('Categories','Total_Population_2010','Total_Registered_2010','Total_Voted_2010').\\\n",
    "                    filter(~col('Categories').contains('White non-Hispanic')).\\\n",
    "                    filter(~col('Categories').contains('Non-Hispanic')).\\\n",
    "                    filter(~col('Categories').contains('Asian')).\\\n",
    "                    filter(~col('Categories').contains('or in combination')).\\\n",
    "                    filter(~col('Categories').contains('Footnotes:')).\\\n",
    "                    filter(~col('Categories').contains('This figure')).\\\n",
    "                    filter(~col('Categories').contains('1This figure')).\\\n",
    "                    filter(~col('Categories').contains('NOTE')).\\\n",
    "                    filter(~col('Categories').contains('Separate')).\\\n",
    "                    filter(~col('Categories').contains('Please')).\\\n",
    "                    filter(~col('Categories').contains('Source')).\\\n",
    "                    filter(~col('Categories').contains('Note')).\\\n",
    "                    filter(~col('Categories').contains('Internet')).\\\n",
    "                    filter(~col('Categories').contains('dash')).\\\n",
    "                    filter(~col('Categories').contains('symbol')).\\\n",
    "                    withColumn('Categories', regexp_replace('Categories', '-', ' ')).\\\n",
    "                    withColumn('Categories', regexp_replace('Categories', 'Hispanic \\(of any race\\)', 'HISPANIC ORIGIN')).\\\n",
    "                    withColumn('Categories', regexp_replace('Categories', ' alone', '')).\\\n",
    "                    select(\"*\", upper(col('Categories'))).\\\n",
    "                    drop(col('Categories')).\\\n",
    "                    withColumnRenamed('upper(Categories)','Categories').\\\n",
    "                    select('Categories', 'Total_Population_2010','Total_Registered_2010','Total_Voted_2010')\n",
    "\n",
    "\n",
    "dp = df10.toPandas()\n",
    "dp.to_csv(\"clean3_election_data/tab_2010.csv\", header=True)"
   ]
  },
  {
   "cell_type": "code",
   "execution_count": null,
   "id": "5d437111",
   "metadata": {},
   "outputs": [],
   "source": [
    "df12 = sqlContext.read.csv('clean2_election_data/tab_2012.csv/part-00000-a2b126ea-76a1-4936-8370-bf8011b6e749-c000.csv').\\\n",
    "                    toDF('Categories','Total_Population_2012','Total_Registered_2012','Total_Voted_2012').\\\n",
    "                    filter(~col('Categories').contains('White non-Hispanic')).\\\n",
    "                    filter(~col('Categories').contains('Non-Hispanic')).\\\n",
    "                    filter(~col('Categories').contains('Asian')).\\\n",
    "                    filter(~col('Categories').contains('or in combination')).\\\n",
    "                    filter(~col('Categories').contains('Footnotes:')).\\\n",
    "                    filter(~col('Categories').contains('This figure')).\\\n",
    "                    filter(~col('Categories').contains('1This figure')).\\\n",
    "                    filter(~col('Categories').contains('NOTE')).\\\n",
    "                    filter(~col('Categories').contains('Separate')).\\\n",
    "                    filter(~col('Categories').contains('Please')).\\\n",
    "                    filter(~col('Categories').contains('Source')).\\\n",
    "                    filter(~col('Categories').contains('Note')).\\\n",
    "                    filter(~col('Categories').contains('Internet')).\\\n",
    "                    filter(~col('Categories').contains('dash')).\\\n",
    "                    filter(~col('Categories').contains('symbol')).\\\n",
    "                    withColumn('Categories', regexp_replace('Categories', '-', ' ')).\\\n",
    "                    withColumn('Categories', regexp_replace('Categories', 'Hispanic \\(of any race\\)', 'HISPANIC ORIGIN')).\\\n",
    "                    withColumn('Categories', regexp_replace('Categories', ' alone', '')).\\\n",
    "                    select(\"*\", upper(col('Categories'))).\\\n",
    "                    drop(col('Categories')).\\\n",
    "                    withColumnRenamed('upper(Categories)','Categories').\\\n",
    "                    select('Categories', 'Total_Population_2012','Total_Registered_2012','Total_Voted_2012')\n",
    "\n",
    "\n",
    "dp = df12.toPandas()\n",
    "dp.to_csv(\"clean3_election_data/tab_2012.csv\", header=True)"
   ]
  },
  {
   "cell_type": "code",
   "execution_count": null,
   "id": "35d8d3a8",
   "metadata": {},
   "outputs": [],
   "source": [
    "df14 = sqlContext.read.csv('clean2_election_data/tab_2014.csv/part-00000-80dda9c4-4979-4bb5-943b-aedb4cab4d40-c000.csv').\\\n",
    "                    toDF('Categories','Total_Population_2014','Total_Registered_2014','Total_Voted_2014').\\\n",
    "                    filter(~col('Categories').contains('White non-Hispanic')).\\\n",
    "                    filter(~col('Categories').contains('Non-Hispanic')).\\\n",
    "                    filter(~col('Categories').contains('Asian')).\\\n",
    "                    filter(~col('Categories').contains('or in combination')).\\\n",
    "                    filter(~col('Categories').contains('Footnotes:')).\\\n",
    "                    filter(~col('Categories').contains('This figure')).\\\n",
    "                    filter(~col('Categories').contains('1This figure')).\\\n",
    "                    filter(~col('Categories').contains('NOTE')).\\\n",
    "                    filter(~col('Categories').contains('Separate')).\\\n",
    "                    filter(~col('Categories').contains('Please')).\\\n",
    "                    filter(~col('Categories').contains('Source')).\\\n",
    "                    filter(~col('Categories').contains('Note')).\\\n",
    "                    filter(~col('Categories').contains('Internet')).\\\n",
    "                    filter(~col('Categories').contains('dash')).\\\n",
    "                    filter(~col('Categories').contains('symbol')).\\\n",
    "                    withColumn('Categories', regexp_replace('Categories', '-', ' ')).\\\n",
    "                    withColumn('Categories', regexp_replace('Categories', 'Hispanic \\(of any race\\)', 'HISPANIC ORIGIN')).\\\n",
    "                    withColumn('Categories', regexp_replace('Categories', ' alone', '')).\\\n",
    "                    select(\"*\", upper(col('Categories'))).\\\n",
    "                    drop(col('Categories')).\\\n",
    "                    withColumnRenamed('upper(Categories)','Categories').\\\n",
    "                    select('Categories', 'Total_Population_2014','Total_Registered_2014','Total_Voted_2014')\n",
    "\n",
    "\n",
    "dp = df14.toPandas()\n",
    "dp.to_csv(\"clean3_election_data/tab_2014.csv\", header=True)"
   ]
  },
  {
   "cell_type": "code",
   "execution_count": null,
   "id": "4d7c97a0",
   "metadata": {},
   "outputs": [],
   "source": [
    "df16 = sqlContext.read.csv('clean2_election_data/tab_2016.csv/part-00000-5b089400-d5e5-474f-acd8-0c384497ca36-c000.csv').\\\n",
    "                    toDF('Categories','Total_Population_2016','Total_Registered_2016','Total_Voted_2016').\\\n",
    "                    filter(~col('Categories').contains('White non-Hispanic')).\\\n",
    "                    filter(~col('Categories').contains('Non-Hispanic')).\\\n",
    "                    filter(~col('Categories').contains('Asian')).\\\n",
    "                    filter(~col('Categories').contains('or in combination')).\\\n",
    "                    filter(~col('Categories').contains('Footnotes:')).\\\n",
    "                    filter(~col('Categories').contains('This figure')).\\\n",
    "                    filter(~col('Categories').contains('1This figure')).\\\n",
    "                    filter(~col('Categories').contains('NOTE')).\\\n",
    "                    filter(~col('Categories').contains('Separate')).\\\n",
    "                    filter(~col('Categories').contains('Please')).\\\n",
    "                    filter(~col('Categories').contains('Source')).\\\n",
    "                    filter(~col('Categories').contains('Note')).\\\n",
    "                    filter(~col('Categories').contains('Internet')).\\\n",
    "                    filter(~col('Categories').contains('dash')).\\\n",
    "                    filter(~col('Categories').contains('symbol')).\\\n",
    "                    filter(~col('Categories').contains('Estimates')).\\\n",
    "                    filter(~col('Categories').contains('https')).\\\n",
    "                    withColumn('Categories', regexp_replace('Categories', '-', ' ')).\\\n",
    "                    withColumn('Categories', regexp_replace('Categories', 'Hispanic \\(of any race\\)', 'HISPANIC ORIGIN')).\\\n",
    "                    withColumn('Categories', regexp_replace('Categories', ' alone', '')).\\\n",
    "                    select(\"*\", upper(col('Categories'))).\\\n",
    "                    drop(col('Categories')).\\\n",
    "                    withColumnRenamed('upper(Categories)','Categories').\\\n",
    "                    select('Categories', 'Total_Population_2016','Total_Registered_2016','Total_Voted_2016')\n",
    "\n",
    "dp = df16.toPandas()\n",
    "dp.to_csv(\"clean3_election_data/tab_2016.csv\", header=True)"
   ]
  },
  {
   "cell_type": "code",
   "execution_count": null,
   "id": "bb7c4062",
   "metadata": {},
   "outputs": [],
   "source": [
    "df18 = sqlContext.read.csv('clean2_election_data/tab_2018.csv/part-00000-602fb31c-c3f3-4a39-8e28-4709330645fc-c000.csv').\\\n",
    "                    toDF('Categories','Total_Population_2018','Total_Registered_2018','Total_Voted_2018').\\\n",
    "                    filter(~col('Categories').contains('White non-Hispanic')).\\\n",
    "                    filter(~col('Categories').contains('Non-Hispanic')).\\\n",
    "                    filter(~col('Categories').contains('Asian')).\\\n",
    "                    filter(~col('Categories').contains('or in combination')).\\\n",
    "                    filter(~col('Categories').contains('Footnotes:')).\\\n",
    "                    filter(~col('Categories').contains('This figure')).\\\n",
    "                    filter(~col('Categories').contains('1This figure')).\\\n",
    "                    filter(~col('Categories').contains('NOTE')).\\\n",
    "                    filter(~col('Categories').contains('Separate')).\\\n",
    "                    filter(~col('Categories').contains('Please')).\\\n",
    "                    filter(~col('Categories').contains('Source')).\\\n",
    "                    filter(~col('Categories').contains('Note')).\\\n",
    "                    filter(~col('Categories').contains('Internet')).\\\n",
    "                    filter(~col('Categories').contains('dash')).\\\n",
    "                    filter(~col('Categories').contains('symbol')).\\\n",
    "                    filter(~col('Categories').contains('Estimates')).\\\n",
    "                    filter(~col('Categories').contains('https')).\\\n",
    "                    withColumn('Categories', regexp_replace('Categories', '-', ' ')).\\\n",
    "                    withColumn('Categories', regexp_replace('Categories', 'Hispanic \\(of any race\\)', 'HISPANIC ORIGIN')).\\\n",
    "                    withColumn('Categories', regexp_replace('Categories', ' alone', '')).\\\n",
    "                    select(\"*\", upper(col('Categories'))).\\\n",
    "                    drop(col('Categories')).\\\n",
    "                    withColumnRenamed('upper(Categories)','Categories').\\\n",
    "                    select('Categories', 'Total_Population_2018','Total_Registered_2018','Total_Voted_2018')\n",
    "\n",
    "dp = df18.toPandas()\n",
    "dp.to_csv(\"clean3_election_data/tab_2018.csv\", header=True)"
   ]
  },
  {
   "cell_type": "code",
   "execution_count": null,
   "id": "f05a3e1d",
   "metadata": {},
   "outputs": [],
   "source": [
    "df20 = sqlContext.read.csv('clean2_election_data/tab_2020.csv/part-00000-8171d0ac-f3dc-4ca5-bda9-a4701e0c8da2-c000.csv').\\\n",
    "                    toDF('Categories','Total_Population_2020','Total_Registered_2020','Total_Voted_2020').\\\n",
    "                    filter(~col('Categories').contains('White non-Hispanic')).\\\n",
    "                    filter(~col('Categories').contains('Non-Hispanic')).\\\n",
    "                    filter(~col('Categories').contains('Asian')).\\\n",
    "                    filter(~col('Categories').contains('or in combination')).\\\n",
    "                    filter(~col('Categories').contains('Footnotes:')).\\\n",
    "                    filter(~col('Categories').contains('This figure')).\\\n",
    "                    filter(~col('Categories').contains('1This figure')).\\\n",
    "                    filter(~col('Categories').contains('NOTE')).\\\n",
    "                    filter(~col('Categories').contains('Separate')).\\\n",
    "                    filter(~col('Categories').contains('Please')).\\\n",
    "                    filter(~col('Categories').contains('Source')).\\\n",
    "                    filter(~col('Categories').contains('Note')).\\\n",
    "                    filter(~col('Categories').contains('Internet')).\\\n",
    "                    filter(~col('Categories').contains('dash')).\\\n",
    "                    filter(~col('Categories').contains('symbol')).\\\n",
    "                    filter(~col('Categories').contains('Estimates')).\\\n",
    "                    filter(~col('Categories').contains('https')).\\\n",
    "                    withColumn('Categories', regexp_replace('Categories', '-', ' ')).\\\n",
    "                    withColumn('Categories', regexp_replace('Categories', 'Hispanic \\(of any race\\)', 'HISPANIC ORIGIN')).\\\n",
    "                    withColumn('Categories', regexp_replace('Categories', ' alone', '')).\\\n",
    "                    select(\"*\", upper(col('Categories'))).\\\n",
    "                    drop(col('Categories')).\\\n",
    "                    withColumnRenamed('upper(Categories)','Categories').\\\n",
    "                    select('Categories', 'Total_Population_2020','Total_Registered_2020','Total_Voted_2020')\n",
    "\n",
    "dp = df20.toPandas()\n",
    "dp.to_csv(\"clean3_election_data/tab_2020.csv\", header=True)"
   ]
  },
  {
   "cell_type": "code",
   "execution_count": null,
   "id": "2bab9372",
   "metadata": {},
   "outputs": [],
   "source": []
  },
  {
   "cell_type": "code",
   "execution_count": null,
   "id": "718da0dc",
   "metadata": {},
   "outputs": [],
   "source": []
  },
  {
   "cell_type": "code",
   "execution_count": null,
   "id": "977f4217",
   "metadata": {},
   "outputs": [],
   "source": []
  },
  {
   "cell_type": "code",
   "execution_count": null,
   "id": "0947a493",
   "metadata": {},
   "outputs": [],
   "source": []
  },
  {
   "cell_type": "code",
   "execution_count": null,
   "id": "ce92625e",
   "metadata": {},
   "outputs": [],
   "source": []
  },
  {
   "cell_type": "code",
   "execution_count": null,
   "id": "a3bea0b2",
   "metadata": {},
   "outputs": [],
   "source": []
  },
  {
   "cell_type": "code",
   "execution_count": null,
   "id": "d00d9e8a",
   "metadata": {},
   "outputs": [],
   "source": []
  },
  {
   "cell_type": "code",
   "execution_count": null,
   "id": "437900e2",
   "metadata": {},
   "outputs": [],
   "source": []
  },
  {
   "cell_type": "code",
   "execution_count": null,
   "id": "deb97d26",
   "metadata": {},
   "outputs": [],
   "source": []
  },
  {
   "cell_type": "code",
   "execution_count": null,
   "id": "71f821b3",
   "metadata": {},
   "outputs": [],
   "source": []
  },
  {
   "cell_type": "code",
   "execution_count": null,
   "id": "5c644a53",
   "metadata": {},
   "outputs": [],
   "source": []
  },
  {
   "cell_type": "code",
   "execution_count": null,
   "id": "74769ee2",
   "metadata": {},
   "outputs": [],
   "source": []
  },
  {
   "cell_type": "code",
   "execution_count": null,
   "id": "63c6f34b",
   "metadata": {},
   "outputs": [],
   "source": []
  },
  {
   "cell_type": "code",
   "execution_count": null,
   "id": "23667f34",
   "metadata": {},
   "outputs": [],
   "source": []
  },
  {
   "cell_type": "code",
   "execution_count": null,
   "id": "a9b15e3d",
   "metadata": {},
   "outputs": [],
   "source": []
  },
  {
   "cell_type": "code",
   "execution_count": null,
   "id": "50673e47",
   "metadata": {},
   "outputs": [],
   "source": []
  },
  {
   "cell_type": "code",
   "execution_count": null,
   "id": "fc8b7c11",
   "metadata": {},
   "outputs": [],
   "source": []
  },
  {
   "cell_type": "code",
   "execution_count": null,
   "id": "40687eb7",
   "metadata": {},
   "outputs": [],
   "source": []
  },
  {
   "cell_type": "code",
   "execution_count": null,
   "id": "80681d2e",
   "metadata": {},
   "outputs": [],
   "source": []
  },
  {
   "cell_type": "code",
   "execution_count": null,
   "id": "090b8c1f",
   "metadata": {},
   "outputs": [],
   "source": []
  },
  {
   "cell_type": "code",
   "execution_count": null,
   "id": "eccbb622",
   "metadata": {},
   "outputs": [],
   "source": []
  }
 ],
 "metadata": {
  "kernelspec": {
   "display_name": "Python 3 (ipykernel)",
   "language": "python",
   "name": "python3"
  },
  "language_info": {
   "codemirror_mode": {
    "name": "ipython",
    "version": 3
   },
   "file_extension": ".py",
   "mimetype": "text/x-python",
   "name": "python",
   "nbconvert_exporter": "python",
   "pygments_lexer": "ipython3",
   "version": "3.9.12"
  }
 },
 "nbformat": 4,
 "nbformat_minor": 5
}
